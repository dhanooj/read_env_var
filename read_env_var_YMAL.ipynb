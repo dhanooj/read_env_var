{
 "cells": [
  {
   "cell_type": "code",
   "execution_count": 13,
   "metadata": {},
   "outputs": [],
   "source": [
    "import os\n",
    "import re\n",
    "import yaml\n"
   ]
  },
  {
   "cell_type": "code",
   "execution_count": 14,
   "metadata": {},
   "outputs": [],
   "source": [
    "# Imagin there is a variable named COGNITE_API_KEY in the env variables"
   ]
  },
  {
   "cell_type": "code",
   "execution_count": 15,
   "metadata": {},
   "outputs": [],
   "source": [
    "def parse_config(path=None, data=None, tag='!ENV'):\n",
    "\n",
    "    # pattern for global vars: look for ${word}\n",
    "    pattern = re.compile('.*?\\${(\\w+)}.*?')\n",
    "    loader = yaml.SafeLoader\n",
    "\n",
    "    # the tag will be used to mark where to start searching for the pattern\n",
    "    # e.g. somekey: !ENV somestring${MYENVVAR}blah blah blah\n",
    "    loader.add_implicit_resolver(tag, pattern, None)\n",
    "\n",
    "    def constructor_env_variables(loader, node):\n",
    "        value = loader.construct_scalar(node)\n",
    "        match = pattern.findall(value)  # to find all env variables in line\n",
    "        if match:\n",
    "            full_value = value\n",
    "            for g in match:\n",
    "                full_value = full_value.replace(\n",
    "                    f'${{{g}}}', os.environ.get(g, g)\n",
    "                )\n",
    "            return full_value\n",
    "        return value\n",
    "\n",
    "    loader.add_constructor(tag, constructor_env_variables)\n",
    "\n",
    "    if path:\n",
    "        with open(path) as conf_data:\n",
    "            return yaml.load(conf_data, Loader=loader)\n",
    "    elif data:\n",
    "        return yaml.load(data, Loader=loader)\n",
    "    else:\n",
    "        raise ValueError('Either a path or data should be defined as input')"
   ]
  },
  {
   "cell_type": "code",
   "execution_count": 2,
   "metadata": {},
   "outputs": [],
   "source": [
    "# conf = parse_config(path='./test.yaml')\n",
    "# conf"
   ]
  },
  {
   "cell_type": "code",
   "execution_count": 1,
   "metadata": {},
   "outputs": [],
   "source": [
    "# val = 'api_key: !ENV ${COGNITE_API_KEY}'\n",
    "# conf2 = parse_config(data=val)\n",
    "# conf2"
   ]
  },
  {
   "cell_type": "code",
   "execution_count": null,
   "metadata": {},
   "outputs": [],
   "source": []
  },
  {
   "cell_type": "code",
   "execution_count": null,
   "metadata": {},
   "outputs": [],
   "source": []
  },
  {
   "cell_type": "code",
   "execution_count": null,
   "metadata": {},
   "outputs": [],
   "source": []
  },
  {
   "cell_type": "code",
   "execution_count": null,
   "metadata": {},
   "outputs": [],
   "source": []
  },
  {
   "cell_type": "code",
   "execution_count": null,
   "metadata": {},
   "outputs": [],
   "source": []
  },
  {
   "cell_type": "code",
   "execution_count": null,
   "metadata": {},
   "outputs": [],
   "source": []
  },
  {
   "cell_type": "code",
   "execution_count": null,
   "metadata": {},
   "outputs": [],
   "source": []
  },
  {
   "cell_type": "code",
   "execution_count": null,
   "metadata": {},
   "outputs": [],
   "source": []
  },
  {
   "cell_type": "code",
   "execution_count": null,
   "metadata": {},
   "outputs": [],
   "source": []
  },
  {
   "cell_type": "code",
   "execution_count": null,
   "metadata": {},
   "outputs": [],
   "source": []
  }
 ],
 "metadata": {
  "kernelspec": {
   "display_name": "Python 3",
   "language": "python",
   "name": "python3"
  },
  "language_info": {
   "codemirror_mode": {
    "name": "ipython",
    "version": 3
   },
   "file_extension": ".py",
   "mimetype": "text/x-python",
   "name": "python",
   "nbconvert_exporter": "python",
   "pygments_lexer": "ipython3",
   "version": "3.7.4"
  }
 },
 "nbformat": 4,
 "nbformat_minor": 2
}
